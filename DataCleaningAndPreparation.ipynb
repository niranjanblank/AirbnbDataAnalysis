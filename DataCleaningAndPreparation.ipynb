{
 "cells": [
  {
   "cell_type": "code",
   "execution_count": 1,
   "metadata": {
    "collapsed": true,
    "ExecuteTime": {
     "end_time": "2023-06-14T08:45:30.709664500Z",
     "start_time": "2023-06-14T08:45:30.504181400Z"
    }
   },
   "outputs": [],
   "source": [
    "import pandas as pd"
   ]
  },
  {
   "cell_type": "code",
   "execution_count": 2,
   "outputs": [
    {
     "name": "stderr",
     "output_type": "stream",
     "text": [
      "C:\\Users\\niran\\AppData\\Local\\Temp\\ipykernel_3824\\1072361251.py:2: DtypeWarning: Columns (17) have mixed types. Specify dtype option on import or set low_memory=False.\n",
      "  listing_dataframe = pd.read_csv('data/listings_summary.csv')\n"
     ]
    }
   ],
   "source": [
    "# Loading the listing data\n",
    "listing_dataframe = pd.read_csv('data/listings_summary.csv')"
   ],
   "metadata": {
    "collapsed": false,
    "ExecuteTime": {
     "end_time": "2023-06-14T08:45:31.818974Z",
     "start_time": "2023-06-14T08:45:31.743977300Z"
    }
   }
  },
  {
   "cell_type": "code",
   "execution_count": 3,
   "outputs": [
    {
     "data": {
      "text/plain": "                       id                                            name  \\\n0                    2595                           Skylit Midtown Castle   \n1                    5121                                 BlissArtsSpace!   \n2                    5203              Cozy Clean Guest Room - Family Apt   \n3                    5178                Large Furnished Room Near B'way　   \n4                    5136     Large Sunny Brooklyn Duplex, Patio + Garden   \n...                   ...                                             ...   \n42926  839753193689829909                   bright studio in Williamsburg   \n42927  839786573617495393  Room in the heart of LES with Gym& Rooftop BBQ   \n42928  839797749155954018                   Fantastic 3BD apt in Brooklyn   \n42929  839814083143454171                                The Coziest Home   \n42930  839817199240589949                                      378-2L-Red   \n\n         host_id  host_name neighbourhood_group       neighbourhood  \\\n0           2845   Jennifer           Manhattan             Midtown   \n1           7356      Garon            Brooklyn  Bedford-Stuyvesant   \n2           7490  MaryEllen           Manhattan     Upper West Side   \n3           8967   Shunichi           Manhattan             Midtown   \n4           7378    Rebecca            Brooklyn         Sunset Park   \n...          ...        ...                 ...                 ...   \n42926   28057253       Jean            Brooklyn        Williamsburg   \n42927  247439246   Charlene           Manhattan        East Village   \n42928   26349246       Jose            Brooklyn            Bushwick   \n42929   48533809      Remmy       Staten Island         Bull's Head   \n42930  488616033      Mikey            Brooklyn        Williamsburg   \n\n        latitude  longitude        room_type  price  minimum_nights  \\\n0      40.753560 -73.985590  Entire home/apt    150              30   \n1      40.685350 -73.955120     Private room     60              30   \n2      40.803800 -73.967510     Private room     75               2   \n3      40.764570 -73.983170     Private room     68               2   \n4      40.662650 -73.994540  Entire home/apt    275              60   \n...          ...        ...              ...    ...             ...   \n42926  40.718976 -73.963985  Entire home/apt     76               7   \n42927  40.721703 -73.981473     Private room     32              30   \n42928  40.688700 -73.907650  Entire home/apt    127               3   \n42929  40.616911 -74.164652  Entire home/apt    280               1   \n42930  40.713091 -73.957205     Private room     78              90   \n\n       number_of_reviews last_review  reviews_per_month  \\\n0                     49  2022-06-21               0.30   \n1                     50  2019-12-02               0.30   \n2                    118  2017-07-21               0.72   \n3                    575  2023-02-19               3.41   \n4                      3  2022-08-10               0.03   \n...                  ...         ...                ...   \n42926                  0         NaN                NaN   \n42927                  0         NaN                NaN   \n42928                  0         NaN                NaN   \n42929                  0         NaN                NaN   \n42930                  0         NaN                NaN   \n\n       calculated_host_listings_count  availability_365  \\\n0                                   3               314   \n1                                   2               365   \n2                                   1                 0   \n3                                   1               106   \n4                                   1               181   \n...                               ...               ...   \n42926                               1                 8   \n42927                               5                79   \n42928                               8               356   \n42929                               1                87   \n42930                              69               309   \n\n       number_of_reviews_ltm license  \n0                          1     NaN  \n1                          0     NaN  \n2                          0     NaN  \n3                         52     NaN  \n4                          1     NaN  \n...                      ...     ...  \n42926                      0     NaN  \n42927                      0     NaN  \n42928                      0     NaN  \n42929                      0     NaN  \n42930                      0     NaN  \n\n[42931 rows x 18 columns]",
      "text/html": "<div>\n<style scoped>\n    .dataframe tbody tr th:only-of-type {\n        vertical-align: middle;\n    }\n\n    .dataframe tbody tr th {\n        vertical-align: top;\n    }\n\n    .dataframe thead th {\n        text-align: right;\n    }\n</style>\n<table border=\"1\" class=\"dataframe\">\n  <thead>\n    <tr style=\"text-align: right;\">\n      <th></th>\n      <th>id</th>\n      <th>name</th>\n      <th>host_id</th>\n      <th>host_name</th>\n      <th>neighbourhood_group</th>\n      <th>neighbourhood</th>\n      <th>latitude</th>\n      <th>longitude</th>\n      <th>room_type</th>\n      <th>price</th>\n      <th>minimum_nights</th>\n      <th>number_of_reviews</th>\n      <th>last_review</th>\n      <th>reviews_per_month</th>\n      <th>calculated_host_listings_count</th>\n      <th>availability_365</th>\n      <th>number_of_reviews_ltm</th>\n      <th>license</th>\n    </tr>\n  </thead>\n  <tbody>\n    <tr>\n      <th>0</th>\n      <td>2595</td>\n      <td>Skylit Midtown Castle</td>\n      <td>2845</td>\n      <td>Jennifer</td>\n      <td>Manhattan</td>\n      <td>Midtown</td>\n      <td>40.753560</td>\n      <td>-73.985590</td>\n      <td>Entire home/apt</td>\n      <td>150</td>\n      <td>30</td>\n      <td>49</td>\n      <td>2022-06-21</td>\n      <td>0.30</td>\n      <td>3</td>\n      <td>314</td>\n      <td>1</td>\n      <td>NaN</td>\n    </tr>\n    <tr>\n      <th>1</th>\n      <td>5121</td>\n      <td>BlissArtsSpace!</td>\n      <td>7356</td>\n      <td>Garon</td>\n      <td>Brooklyn</td>\n      <td>Bedford-Stuyvesant</td>\n      <td>40.685350</td>\n      <td>-73.955120</td>\n      <td>Private room</td>\n      <td>60</td>\n      <td>30</td>\n      <td>50</td>\n      <td>2019-12-02</td>\n      <td>0.30</td>\n      <td>2</td>\n      <td>365</td>\n      <td>0</td>\n      <td>NaN</td>\n    </tr>\n    <tr>\n      <th>2</th>\n      <td>5203</td>\n      <td>Cozy Clean Guest Room - Family Apt</td>\n      <td>7490</td>\n      <td>MaryEllen</td>\n      <td>Manhattan</td>\n      <td>Upper West Side</td>\n      <td>40.803800</td>\n      <td>-73.967510</td>\n      <td>Private room</td>\n      <td>75</td>\n      <td>2</td>\n      <td>118</td>\n      <td>2017-07-21</td>\n      <td>0.72</td>\n      <td>1</td>\n      <td>0</td>\n      <td>0</td>\n      <td>NaN</td>\n    </tr>\n    <tr>\n      <th>3</th>\n      <td>5178</td>\n      <td>Large Furnished Room Near B'way</td>\n      <td>8967</td>\n      <td>Shunichi</td>\n      <td>Manhattan</td>\n      <td>Midtown</td>\n      <td>40.764570</td>\n      <td>-73.983170</td>\n      <td>Private room</td>\n      <td>68</td>\n      <td>2</td>\n      <td>575</td>\n      <td>2023-02-19</td>\n      <td>3.41</td>\n      <td>1</td>\n      <td>106</td>\n      <td>52</td>\n      <td>NaN</td>\n    </tr>\n    <tr>\n      <th>4</th>\n      <td>5136</td>\n      <td>Large Sunny Brooklyn Duplex, Patio + Garden</td>\n      <td>7378</td>\n      <td>Rebecca</td>\n      <td>Brooklyn</td>\n      <td>Sunset Park</td>\n      <td>40.662650</td>\n      <td>-73.994540</td>\n      <td>Entire home/apt</td>\n      <td>275</td>\n      <td>60</td>\n      <td>3</td>\n      <td>2022-08-10</td>\n      <td>0.03</td>\n      <td>1</td>\n      <td>181</td>\n      <td>1</td>\n      <td>NaN</td>\n    </tr>\n    <tr>\n      <th>...</th>\n      <td>...</td>\n      <td>...</td>\n      <td>...</td>\n      <td>...</td>\n      <td>...</td>\n      <td>...</td>\n      <td>...</td>\n      <td>...</td>\n      <td>...</td>\n      <td>...</td>\n      <td>...</td>\n      <td>...</td>\n      <td>...</td>\n      <td>...</td>\n      <td>...</td>\n      <td>...</td>\n      <td>...</td>\n      <td>...</td>\n    </tr>\n    <tr>\n      <th>42926</th>\n      <td>839753193689829909</td>\n      <td>bright studio in Williamsburg</td>\n      <td>28057253</td>\n      <td>Jean</td>\n      <td>Brooklyn</td>\n      <td>Williamsburg</td>\n      <td>40.718976</td>\n      <td>-73.963985</td>\n      <td>Entire home/apt</td>\n      <td>76</td>\n      <td>7</td>\n      <td>0</td>\n      <td>NaN</td>\n      <td>NaN</td>\n      <td>1</td>\n      <td>8</td>\n      <td>0</td>\n      <td>NaN</td>\n    </tr>\n    <tr>\n      <th>42927</th>\n      <td>839786573617495393</td>\n      <td>Room in the heart of LES with Gym&amp; Rooftop BBQ</td>\n      <td>247439246</td>\n      <td>Charlene</td>\n      <td>Manhattan</td>\n      <td>East Village</td>\n      <td>40.721703</td>\n      <td>-73.981473</td>\n      <td>Private room</td>\n      <td>32</td>\n      <td>30</td>\n      <td>0</td>\n      <td>NaN</td>\n      <td>NaN</td>\n      <td>5</td>\n      <td>79</td>\n      <td>0</td>\n      <td>NaN</td>\n    </tr>\n    <tr>\n      <th>42928</th>\n      <td>839797749155954018</td>\n      <td>Fantastic 3BD apt in Brooklyn</td>\n      <td>26349246</td>\n      <td>Jose</td>\n      <td>Brooklyn</td>\n      <td>Bushwick</td>\n      <td>40.688700</td>\n      <td>-73.907650</td>\n      <td>Entire home/apt</td>\n      <td>127</td>\n      <td>3</td>\n      <td>0</td>\n      <td>NaN</td>\n      <td>NaN</td>\n      <td>8</td>\n      <td>356</td>\n      <td>0</td>\n      <td>NaN</td>\n    </tr>\n    <tr>\n      <th>42929</th>\n      <td>839814083143454171</td>\n      <td>The Coziest Home</td>\n      <td>48533809</td>\n      <td>Remmy</td>\n      <td>Staten Island</td>\n      <td>Bull's Head</td>\n      <td>40.616911</td>\n      <td>-74.164652</td>\n      <td>Entire home/apt</td>\n      <td>280</td>\n      <td>1</td>\n      <td>0</td>\n      <td>NaN</td>\n      <td>NaN</td>\n      <td>1</td>\n      <td>87</td>\n      <td>0</td>\n      <td>NaN</td>\n    </tr>\n    <tr>\n      <th>42930</th>\n      <td>839817199240589949</td>\n      <td>378-2L-Red</td>\n      <td>488616033</td>\n      <td>Mikey</td>\n      <td>Brooklyn</td>\n      <td>Williamsburg</td>\n      <td>40.713091</td>\n      <td>-73.957205</td>\n      <td>Private room</td>\n      <td>78</td>\n      <td>90</td>\n      <td>0</td>\n      <td>NaN</td>\n      <td>NaN</td>\n      <td>69</td>\n      <td>309</td>\n      <td>0</td>\n      <td>NaN</td>\n    </tr>\n  </tbody>\n</table>\n<p>42931 rows × 18 columns</p>\n</div>"
     },
     "execution_count": 3,
     "metadata": {},
     "output_type": "execute_result"
    }
   ],
   "source": [
    "listing_dataframe"
   ],
   "metadata": {
    "collapsed": false,
    "ExecuteTime": {
     "end_time": "2023-06-14T08:45:32.349155400Z",
     "start_time": "2023-06-14T08:45:32.338329100Z"
    }
   }
  },
  {
   "cell_type": "code",
   "execution_count": 4,
   "outputs": [
    {
     "data": {
      "text/plain": "Index(['id', 'name', 'host_id', 'host_name', 'neighbourhood_group',\n       'neighbourhood', 'latitude', 'longitude', 'room_type', 'price',\n       'minimum_nights', 'number_of_reviews', 'last_review',\n       'reviews_per_month', 'calculated_host_listings_count',\n       'availability_365', 'number_of_reviews_ltm', 'license'],\n      dtype='object')"
     },
     "execution_count": 4,
     "metadata": {},
     "output_type": "execute_result"
    }
   ],
   "source": [
    "# The column names\n",
    "listing_dataframe.columns"
   ],
   "metadata": {
    "collapsed": false,
    "ExecuteTime": {
     "end_time": "2023-06-14T08:45:33.223825Z",
     "start_time": "2023-06-14T08:45:33.216684400Z"
    }
   }
  },
  {
   "cell_type": "code",
   "execution_count": 5,
   "outputs": [
    {
     "name": "stdout",
     "output_type": "stream",
     "text": [
      "Number of Rows:42931\n",
      "Number of Columns:18\n"
     ]
    }
   ],
   "source": [
    "print(f'Number of Rows:{listing_dataframe.shape[0]}')\n",
    "print(f'Number of Columns:{listing_dataframe.shape[1]}')"
   ],
   "metadata": {
    "collapsed": false,
    "ExecuteTime": {
     "end_time": "2023-06-14T08:45:33.833427800Z",
     "start_time": "2023-06-14T08:45:33.830002100Z"
    }
   }
  },
  {
   "cell_type": "code",
   "execution_count": 6,
   "outputs": [
    {
     "data": {
      "text/plain": "id                                  int64\nname                               object\nhost_id                             int64\nhost_name                          object\nneighbourhood_group                object\nneighbourhood                      object\nlatitude                          float64\nlongitude                         float64\nroom_type                          object\nprice                               int64\nminimum_nights                      int64\nnumber_of_reviews                   int64\nlast_review                        object\nreviews_per_month                 float64\ncalculated_host_listings_count      int64\navailability_365                    int64\nnumber_of_reviews_ltm               int64\nlicense                            object\ndtype: object"
     },
     "execution_count": 6,
     "metadata": {},
     "output_type": "execute_result"
    }
   ],
   "source": [
    "# data types of column\n",
    "listing_dataframe.dtypes"
   ],
   "metadata": {
    "collapsed": false,
    "ExecuteTime": {
     "end_time": "2023-06-14T08:45:34.215449300Z",
     "start_time": "2023-06-14T08:45:34.212258800Z"
    }
   }
  },
  {
   "cell_type": "code",
   "execution_count": 7,
   "outputs": [],
   "source": [
    "# converting last_review to date\n",
    "listing_dataframe['last_review'] = pd.to_datetime(listing_dataframe['last_review'])"
   ],
   "metadata": {
    "collapsed": false,
    "ExecuteTime": {
     "end_time": "2023-06-14T08:45:34.599617100Z",
     "start_time": "2023-06-14T08:45:34.597102200Z"
    }
   }
  },
  {
   "cell_type": "code",
   "execution_count": 8,
   "outputs": [
    {
     "data": {
      "text/plain": "id                                 0.000000\nname                               0.027952\nhost_id                            0.000000\nhost_name                          0.011647\nneighbourhood_group                0.000000\nneighbourhood                      0.000000\nlatitude                           0.000000\nlongitude                          0.000000\nroom_type                          0.000000\nprice                              0.000000\nminimum_nights                     0.000000\nnumber_of_reviews                  0.000000\nlast_review                       24.001304\nreviews_per_month                 24.001304\ncalculated_host_listings_count     0.000000\navailability_365                   0.000000\nnumber_of_reviews_ltm              0.000000\nlicense                           99.997671\ndtype: float64"
     },
     "execution_count": 8,
     "metadata": {},
     "output_type": "execute_result"
    }
   ],
   "source": [
    "# Showing what percentage of na values for each column\n",
    "listing_dataframe.isna().mean()*100"
   ],
   "metadata": {
    "collapsed": false,
    "ExecuteTime": {
     "end_time": "2023-06-14T08:45:35.021821Z",
     "start_time": "2023-06-14T08:45:34.994494300Z"
    }
   }
  },
  {
   "cell_type": "code",
   "execution_count": 9,
   "outputs": [],
   "source": [
    "# As license has about 99.99 # na removing this column\n",
    "listing_dataframe = listing_dataframe.drop('license', axis=1)"
   ],
   "metadata": {
    "collapsed": false,
    "ExecuteTime": {
     "end_time": "2023-06-14T08:45:35.622677500Z",
     "start_time": "2023-06-14T08:45:35.614012200Z"
    }
   }
  },
  {
   "cell_type": "code",
   "execution_count": 10,
   "outputs": [
    {
     "data": {
      "text/plain": "                       id                                            name  \\\n0                    2595                           Skylit Midtown Castle   \n1                    5121                                 BlissArtsSpace!   \n2                    5203              Cozy Clean Guest Room - Family Apt   \n3                    5178                Large Furnished Room Near B'way　   \n4                    5136     Large Sunny Brooklyn Duplex, Patio + Garden   \n...                   ...                                             ...   \n42926  839753193689829909                   bright studio in Williamsburg   \n42927  839786573617495393  Room in the heart of LES with Gym& Rooftop BBQ   \n42928  839797749155954018                   Fantastic 3BD apt in Brooklyn   \n42929  839814083143454171                                The Coziest Home   \n42930  839817199240589949                                      378-2L-Red   \n\n         host_id  host_name neighbourhood_group       neighbourhood  \\\n0           2845   Jennifer           Manhattan             Midtown   \n1           7356      Garon            Brooklyn  Bedford-Stuyvesant   \n2           7490  MaryEllen           Manhattan     Upper West Side   \n3           8967   Shunichi           Manhattan             Midtown   \n4           7378    Rebecca            Brooklyn         Sunset Park   \n...          ...        ...                 ...                 ...   \n42926   28057253       Jean            Brooklyn        Williamsburg   \n42927  247439246   Charlene           Manhattan        East Village   \n42928   26349246       Jose            Brooklyn            Bushwick   \n42929   48533809      Remmy       Staten Island         Bull's Head   \n42930  488616033      Mikey            Brooklyn        Williamsburg   \n\n        latitude  longitude        room_type  price  minimum_nights  \\\n0      40.753560 -73.985590  Entire home/apt    150              30   \n1      40.685350 -73.955120     Private room     60              30   \n2      40.803800 -73.967510     Private room     75               2   \n3      40.764570 -73.983170     Private room     68               2   \n4      40.662650 -73.994540  Entire home/apt    275              60   \n...          ...        ...              ...    ...             ...   \n42926  40.718976 -73.963985  Entire home/apt     76               7   \n42927  40.721703 -73.981473     Private room     32              30   \n42928  40.688700 -73.907650  Entire home/apt    127               3   \n42929  40.616911 -74.164652  Entire home/apt    280               1   \n42930  40.713091 -73.957205     Private room     78              90   \n\n       number_of_reviews last_review  reviews_per_month  \\\n0                     49  2022-06-21               0.30   \n1                     50  2019-12-02               0.30   \n2                    118  2017-07-21               0.72   \n3                    575  2023-02-19               3.41   \n4                      3  2022-08-10               0.03   \n...                  ...         ...                ...   \n42926                  0         NaT                NaN   \n42927                  0         NaT                NaN   \n42928                  0         NaT                NaN   \n42929                  0         NaT                NaN   \n42930                  0         NaT                NaN   \n\n       calculated_host_listings_count  availability_365  number_of_reviews_ltm  \n0                                   3               314                      1  \n1                                   2               365                      0  \n2                                   1                 0                      0  \n3                                   1               106                     52  \n4                                   1               181                      1  \n...                               ...               ...                    ...  \n42926                               1                 8                      0  \n42927                               5                79                      0  \n42928                               8               356                      0  \n42929                               1                87                      0  \n42930                              69               309                      0  \n\n[42931 rows x 17 columns]",
      "text/html": "<div>\n<style scoped>\n    .dataframe tbody tr th:only-of-type {\n        vertical-align: middle;\n    }\n\n    .dataframe tbody tr th {\n        vertical-align: top;\n    }\n\n    .dataframe thead th {\n        text-align: right;\n    }\n</style>\n<table border=\"1\" class=\"dataframe\">\n  <thead>\n    <tr style=\"text-align: right;\">\n      <th></th>\n      <th>id</th>\n      <th>name</th>\n      <th>host_id</th>\n      <th>host_name</th>\n      <th>neighbourhood_group</th>\n      <th>neighbourhood</th>\n      <th>latitude</th>\n      <th>longitude</th>\n      <th>room_type</th>\n      <th>price</th>\n      <th>minimum_nights</th>\n      <th>number_of_reviews</th>\n      <th>last_review</th>\n      <th>reviews_per_month</th>\n      <th>calculated_host_listings_count</th>\n      <th>availability_365</th>\n      <th>number_of_reviews_ltm</th>\n    </tr>\n  </thead>\n  <tbody>\n    <tr>\n      <th>0</th>\n      <td>2595</td>\n      <td>Skylit Midtown Castle</td>\n      <td>2845</td>\n      <td>Jennifer</td>\n      <td>Manhattan</td>\n      <td>Midtown</td>\n      <td>40.753560</td>\n      <td>-73.985590</td>\n      <td>Entire home/apt</td>\n      <td>150</td>\n      <td>30</td>\n      <td>49</td>\n      <td>2022-06-21</td>\n      <td>0.30</td>\n      <td>3</td>\n      <td>314</td>\n      <td>1</td>\n    </tr>\n    <tr>\n      <th>1</th>\n      <td>5121</td>\n      <td>BlissArtsSpace!</td>\n      <td>7356</td>\n      <td>Garon</td>\n      <td>Brooklyn</td>\n      <td>Bedford-Stuyvesant</td>\n      <td>40.685350</td>\n      <td>-73.955120</td>\n      <td>Private room</td>\n      <td>60</td>\n      <td>30</td>\n      <td>50</td>\n      <td>2019-12-02</td>\n      <td>0.30</td>\n      <td>2</td>\n      <td>365</td>\n      <td>0</td>\n    </tr>\n    <tr>\n      <th>2</th>\n      <td>5203</td>\n      <td>Cozy Clean Guest Room - Family Apt</td>\n      <td>7490</td>\n      <td>MaryEllen</td>\n      <td>Manhattan</td>\n      <td>Upper West Side</td>\n      <td>40.803800</td>\n      <td>-73.967510</td>\n      <td>Private room</td>\n      <td>75</td>\n      <td>2</td>\n      <td>118</td>\n      <td>2017-07-21</td>\n      <td>0.72</td>\n      <td>1</td>\n      <td>0</td>\n      <td>0</td>\n    </tr>\n    <tr>\n      <th>3</th>\n      <td>5178</td>\n      <td>Large Furnished Room Near B'way</td>\n      <td>8967</td>\n      <td>Shunichi</td>\n      <td>Manhattan</td>\n      <td>Midtown</td>\n      <td>40.764570</td>\n      <td>-73.983170</td>\n      <td>Private room</td>\n      <td>68</td>\n      <td>2</td>\n      <td>575</td>\n      <td>2023-02-19</td>\n      <td>3.41</td>\n      <td>1</td>\n      <td>106</td>\n      <td>52</td>\n    </tr>\n    <tr>\n      <th>4</th>\n      <td>5136</td>\n      <td>Large Sunny Brooklyn Duplex, Patio + Garden</td>\n      <td>7378</td>\n      <td>Rebecca</td>\n      <td>Brooklyn</td>\n      <td>Sunset Park</td>\n      <td>40.662650</td>\n      <td>-73.994540</td>\n      <td>Entire home/apt</td>\n      <td>275</td>\n      <td>60</td>\n      <td>3</td>\n      <td>2022-08-10</td>\n      <td>0.03</td>\n      <td>1</td>\n      <td>181</td>\n      <td>1</td>\n    </tr>\n    <tr>\n      <th>...</th>\n      <td>...</td>\n      <td>...</td>\n      <td>...</td>\n      <td>...</td>\n      <td>...</td>\n      <td>...</td>\n      <td>...</td>\n      <td>...</td>\n      <td>...</td>\n      <td>...</td>\n      <td>...</td>\n      <td>...</td>\n      <td>...</td>\n      <td>...</td>\n      <td>...</td>\n      <td>...</td>\n      <td>...</td>\n    </tr>\n    <tr>\n      <th>42926</th>\n      <td>839753193689829909</td>\n      <td>bright studio in Williamsburg</td>\n      <td>28057253</td>\n      <td>Jean</td>\n      <td>Brooklyn</td>\n      <td>Williamsburg</td>\n      <td>40.718976</td>\n      <td>-73.963985</td>\n      <td>Entire home/apt</td>\n      <td>76</td>\n      <td>7</td>\n      <td>0</td>\n      <td>NaT</td>\n      <td>NaN</td>\n      <td>1</td>\n      <td>8</td>\n      <td>0</td>\n    </tr>\n    <tr>\n      <th>42927</th>\n      <td>839786573617495393</td>\n      <td>Room in the heart of LES with Gym&amp; Rooftop BBQ</td>\n      <td>247439246</td>\n      <td>Charlene</td>\n      <td>Manhattan</td>\n      <td>East Village</td>\n      <td>40.721703</td>\n      <td>-73.981473</td>\n      <td>Private room</td>\n      <td>32</td>\n      <td>30</td>\n      <td>0</td>\n      <td>NaT</td>\n      <td>NaN</td>\n      <td>5</td>\n      <td>79</td>\n      <td>0</td>\n    </tr>\n    <tr>\n      <th>42928</th>\n      <td>839797749155954018</td>\n      <td>Fantastic 3BD apt in Brooklyn</td>\n      <td>26349246</td>\n      <td>Jose</td>\n      <td>Brooklyn</td>\n      <td>Bushwick</td>\n      <td>40.688700</td>\n      <td>-73.907650</td>\n      <td>Entire home/apt</td>\n      <td>127</td>\n      <td>3</td>\n      <td>0</td>\n      <td>NaT</td>\n      <td>NaN</td>\n      <td>8</td>\n      <td>356</td>\n      <td>0</td>\n    </tr>\n    <tr>\n      <th>42929</th>\n      <td>839814083143454171</td>\n      <td>The Coziest Home</td>\n      <td>48533809</td>\n      <td>Remmy</td>\n      <td>Staten Island</td>\n      <td>Bull's Head</td>\n      <td>40.616911</td>\n      <td>-74.164652</td>\n      <td>Entire home/apt</td>\n      <td>280</td>\n      <td>1</td>\n      <td>0</td>\n      <td>NaT</td>\n      <td>NaN</td>\n      <td>1</td>\n      <td>87</td>\n      <td>0</td>\n    </tr>\n    <tr>\n      <th>42930</th>\n      <td>839817199240589949</td>\n      <td>378-2L-Red</td>\n      <td>488616033</td>\n      <td>Mikey</td>\n      <td>Brooklyn</td>\n      <td>Williamsburg</td>\n      <td>40.713091</td>\n      <td>-73.957205</td>\n      <td>Private room</td>\n      <td>78</td>\n      <td>90</td>\n      <td>0</td>\n      <td>NaT</td>\n      <td>NaN</td>\n      <td>69</td>\n      <td>309</td>\n      <td>0</td>\n    </tr>\n  </tbody>\n</table>\n<p>42931 rows × 17 columns</p>\n</div>"
     },
     "execution_count": 10,
     "metadata": {},
     "output_type": "execute_result"
    }
   ],
   "source": [
    "listing_dataframe"
   ],
   "metadata": {
    "collapsed": false,
    "ExecuteTime": {
     "end_time": "2023-06-14T08:45:36.286945100Z",
     "start_time": "2023-06-14T08:45:36.282512900Z"
    }
   }
  },
  {
   "cell_type": "markdown",
   "source": [
    "Since name and host_name are supposed to be unique values, they cant be imputed with mode. So, we will use \"Unknown\" to impute them"
   ],
   "metadata": {
    "collapsed": false
   }
  },
  {
   "cell_type": "code",
   "execution_count": 11,
   "outputs": [],
   "source": [
    "listing_dataframe[\"name\"] = listing_dataframe[\"name\"].fillna(\"Unknown\")\n",
    "listing_dataframe[\"host_name\"] = listing_dataframe[\"host_name\"].fillna(\"Unknown\")"
   ],
   "metadata": {
    "collapsed": false,
    "ExecuteTime": {
     "end_time": "2023-06-14T08:45:38.767240200Z",
     "start_time": "2023-06-14T08:45:38.759738100Z"
    }
   }
  },
  {
   "cell_type": "markdown",
   "source": [
    "The na values in \"reviews_per_month\" might mean no review. So replacing the na with 0"
   ],
   "metadata": {
    "collapsed": false
   }
  },
  {
   "cell_type": "code",
   "execution_count": 12,
   "outputs": [],
   "source": [
    "listing_dataframe[\"reviews_per_month\"].fillna(0, inplace=True)"
   ],
   "metadata": {
    "collapsed": false,
    "ExecuteTime": {
     "end_time": "2023-06-14T08:45:40.510614Z",
     "start_time": "2023-06-14T08:45:40.504767700Z"
    }
   }
  },
  {
   "cell_type": "markdown",
   "source": [
    "The \"last_review\" column indicate last date the listing was reviewed, the presence of na might mean it hasnt been reviewed yet. so imputing it with some date might add uncertainties.To tackle, this a new column named \"reviewed\" is added which holds binary value indicating if it has been reviewed or not."
   ],
   "metadata": {
    "collapsed": false
   }
  },
  {
   "cell_type": "code",
   "execution_count": 13,
   "outputs": [],
   "source": [
    "listing_dataframe[\"reviewed\"] = (~listing_dataframe['last_review'].isna()).astype(int)"
   ],
   "metadata": {
    "collapsed": false,
    "ExecuteTime": {
     "end_time": "2023-06-14T08:45:42.588608300Z",
     "start_time": "2023-06-14T08:45:42.583716Z"
    }
   }
  },
  {
   "cell_type": "code",
   "execution_count": 14,
   "outputs": [
    {
     "data": {
      "text/plain": "0        1\n1        1\n2        1\n3        1\n4        1\n        ..\n42926    0\n42927    0\n42928    0\n42929    0\n42930    0\nName: reviewed, Length: 42931, dtype: int32"
     },
     "execution_count": 14,
     "metadata": {},
     "output_type": "execute_result"
    }
   ],
   "source": [
    "listing_dataframe[\"reviewed\"]"
   ],
   "metadata": {
    "collapsed": false,
    "ExecuteTime": {
     "end_time": "2023-06-14T08:45:43.121120300Z",
     "start_time": "2023-06-14T08:45:43.116799800Z"
    }
   }
  },
  {
   "cell_type": "code",
   "execution_count": 15,
   "outputs": [],
   "source": [
    "listing_dataframe.to_csv(\"cleaned_listing_data.csv\", index=False)"
   ],
   "metadata": {
    "collapsed": false,
    "ExecuteTime": {
     "end_time": "2023-06-14T08:45:44.942704200Z",
     "start_time": "2023-06-14T08:45:44.784541600Z"
    }
   }
  },
  {
   "cell_type": "code",
   "execution_count": 16,
   "outputs": [],
   "source": [
    "# Calculating sentiment for the reviews provided\n",
    "reviews_dataframe = pd.read_csv(\"data/reviews_summary.csv\")"
   ],
   "metadata": {
    "collapsed": false,
    "ExecuteTime": {
     "end_time": "2023-06-14T08:45:48.613383900Z",
     "start_time": "2023-06-14T08:45:48.451075300Z"
    }
   }
  },
  {
   "cell_type": "code",
   "execution_count": 17,
   "outputs": [
    {
     "data": {
      "text/plain": "listing_id    0\ndate          0\ndtype: int64"
     },
     "execution_count": 17,
     "metadata": {},
     "output_type": "execute_result"
    }
   ],
   "source": [
    "reviews_dataframe.isna().sum()"
   ],
   "metadata": {
    "collapsed": false,
    "ExecuteTime": {
     "end_time": "2023-06-14T08:45:49.037388500Z",
     "start_time": "2023-06-14T08:45:49.018768100Z"
    }
   }
  },
  {
   "cell_type": "code",
   "execution_count": 18,
   "outputs": [
    {
     "data": {
      "text/plain": "listing_id    0.0\ndate          0.0\ndtype: float64"
     },
     "execution_count": 18,
     "metadata": {},
     "output_type": "execute_result"
    }
   ],
   "source": [
    "reviews_dataframe.isna().mean()*100"
   ],
   "metadata": {
    "collapsed": false,
    "ExecuteTime": {
     "end_time": "2023-06-14T08:46:01.404338700Z",
     "start_time": "2023-06-14T08:46:01.383235100Z"
    }
   }
  },
  {
   "cell_type": "markdown",
   "source": [
    "Reviews doesnt require cleaning as there seems to be no missing values"
   ],
   "metadata": {
    "collapsed": false
   }
  }
 ],
 "metadata": {
  "kernelspec": {
   "display_name": "Python 3",
   "language": "python",
   "name": "python3"
  },
  "language_info": {
   "codemirror_mode": {
    "name": "ipython",
    "version": 2
   },
   "file_extension": ".py",
   "mimetype": "text/x-python",
   "name": "python",
   "nbconvert_exporter": "python",
   "pygments_lexer": "ipython2",
   "version": "2.7.6"
  }
 },
 "nbformat": 4,
 "nbformat_minor": 0
}
