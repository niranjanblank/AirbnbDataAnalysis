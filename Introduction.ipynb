{
 "cells": [
  {
   "cell_type": "markdown",
   "source": [
    "# New York City Airbnb Data Analysis"
   ],
   "metadata": {
    "collapsed": false
   }
  },
  {
   "cell_type": "markdown",
   "source": [
    "## Introduction\n",
    "Airbnb is an online platform for lodging, which allows people to rent out spare space from a spare to an entire house. There are cover 4 million hosts worldwide and over 6 million active listings on this platform, in over 100000 cities. This presents a rich source of data on local lodging markets, especially in major cities like New York.\n",
    "New York City, with its diverse neighborhoods and wide range of attractions, is one of the most popular Airbnb locations. However, understanding the NYC Airbnb market can be complex, given the vast number of listings and the various factors that can influence price and availability."
   ],
   "metadata": {
    "collapsed": false
   }
  },
  {
   "cell_type": "markdown",
   "source": [
    "## Objective\n",
    "In this project, our primary objective is to utilize the Inside Airbnb data for the first quarter of 2023, and explore and analyze the NYC Airbnb marker. We aim to understand the key factors that influence Airbnb prices, availability and other properties related to Airbnb listing, which will provide insights for both hosts and renters.\n",
    "\n",
    "The questions whose answers we are seeking are:\n",
    "1. What factors significantly influence the price of Airbnb listing in NYC?\n",
    "2. How does the availability of Airbnb listings vary across different neighborhoods in NYC?\n",
    "3. What is the relationship between number of reviews a listing has and its price/availability?\n",
    "4. Do hosts with multiple listings price their properties differently compared to hosts with only one listing?\n",
    "5. What is the distribution of different room types in the listings? How does room type affect the price of the listings?\n",
    "6. Can we build a model to predict the price of Airbnb listing based on its features?"
   ],
   "metadata": {
    "collapsed": false
   }
  },
  {
   "cell_type": "markdown",
   "source": [
    "## Methodology\n",
    "We will find answers to our question by following a series of steps in the process of Data Analysis:\n",
    "1. Data Cleaning and Preparation\n",
    "2. Exploratory Data Analysis\n",
    "3. Model Building\n",
    "4. Interpreting findings and Communicating Insights"
   ],
   "metadata": {
    "collapsed": false
   }
  },
  {
   "cell_type": "markdown",
   "source": [
    "By the end of this project, we aim to provide valuable insights into the NYC Airbnb market in the first quarter of 2023 and establish a model that can accurately predict Airbnb listing prices based on various factors."
   ],
   "metadata": {
    "collapsed": false
   }
  }
 ],
 "metadata": {
  "kernelspec": {
   "display_name": "Python 3",
   "language": "python",
   "name": "python3"
  },
  "language_info": {
   "codemirror_mode": {
    "name": "ipython",
    "version": 2
   },
   "file_extension": ".py",
   "mimetype": "text/x-python",
   "name": "python",
   "nbconvert_exporter": "python",
   "pygments_lexer": "ipython2",
   "version": "2.7.6"
  }
 },
 "nbformat": 4,
 "nbformat_minor": 0
}
