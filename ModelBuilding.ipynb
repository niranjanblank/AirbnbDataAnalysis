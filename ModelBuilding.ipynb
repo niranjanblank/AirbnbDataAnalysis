{
 "cells": [
  {
   "cell_type": "markdown",
   "source": [
    "# Data Modeling"
   ],
   "metadata": {
    "collapsed": false
   }
  },
  {
   "cell_type": "code",
   "execution_count": 2,
   "outputs": [],
   "source": [
    "import pandas as pd"
   ],
   "metadata": {
    "collapsed": false,
    "ExecuteTime": {
     "end_time": "2023-06-19T11:14:15.581435400Z",
     "start_time": "2023-06-19T11:14:15.579928100Z"
    }
   }
  },
  {
   "cell_type": "code",
   "execution_count": 3,
   "outputs": [],
   "source": [
    "# Reading the\n",
    "listing_dataframe = pd.read_csv(\"cleaned_listing_data.csv\")"
   ],
   "metadata": {
    "collapsed": false,
    "ExecuteTime": {
     "end_time": "2023-06-19T11:14:42.991049100Z",
     "start_time": "2023-06-19T11:14:42.806044500Z"
    }
   }
  },
  {
   "cell_type": "code",
   "execution_count": 6,
   "outputs": [
    {
     "data": {
      "text/plain": "id                                  int64\nname                               object\nhost_id                             int64\nhost_name                          object\nneighbourhood_group                object\nneighbourhood                      object\nlatitude                          float64\nlongitude                         float64\nroom_type                          object\nprice                               int64\nminimum_nights                      int64\nnumber_of_reviews                   int64\nreviews_per_month                 float64\ncalculated_host_listings_count      int64\navailability_365                    int64\nnumber_of_reviews_ltm               int64\nreviewed                            int64\ndtype: object"
     },
     "execution_count": 6,
     "metadata": {},
     "output_type": "execute_result"
    }
   ],
   "source": [
    "listing_dataframe.dtypes"
   ],
   "metadata": {
    "collapsed": false,
    "ExecuteTime": {
     "end_time": "2023-06-19T11:15:00.991404500Z",
     "start_time": "2023-06-19T11:15:00.988273100Z"
    }
   }
  },
  {
   "cell_type": "markdown",
   "source": [
    "The columns such as host_name, name , neighhbourhood doesn't provide much predictive power, and also has high cardinality. So dropping them for data modelling. Similarly, host_id and id don't have much predictive"
   ],
   "metadata": {
    "collapsed": false
   }
  },
  {
   "cell_type": "code",
   "execution_count": 13,
   "outputs": [],
   "source": [
    "X = listing_dataframe.drop(['id', 'host_id', 'name', 'host_name', 'neighbourhood', 'price'],axis=1)\n",
    "y = listing_dataframe['price']"
   ],
   "metadata": {
    "collapsed": false,
    "ExecuteTime": {
     "end_time": "2023-06-19T11:31:55.791771200Z",
     "start_time": "2023-06-19T11:31:55.786746100Z"
    }
   }
  },
  {
   "cell_type": "code",
   "execution_count": 14,
   "outputs": [
    {
     "data": {
      "text/plain": "  neighbourhood_group  latitude  longitude        room_type  minimum_nights  \\\n0           Manhattan  40.75356  -73.98559  Entire home/apt              30   \n1            Brooklyn  40.68535  -73.95512     Private room              30   \n2           Manhattan  40.80380  -73.96751     Private room               2   \n3           Manhattan  40.76457  -73.98317     Private room               2   \n4            Brooklyn  40.66265  -73.99454  Entire home/apt              60   \n\n   number_of_reviews  reviews_per_month  calculated_host_listings_count  \\\n0                 49               0.30                               3   \n1                 50               0.30                               2   \n2                118               0.72                               1   \n3                575               3.41                               1   \n4                  3               0.03                               1   \n\n   availability_365  number_of_reviews_ltm  reviewed  \n0               314                      1         1  \n1               365                      0         1  \n2                 0                      0         1  \n3               106                     52         1  \n4               181                      1         1  ",
      "text/html": "<div>\n<style scoped>\n    .dataframe tbody tr th:only-of-type {\n        vertical-align: middle;\n    }\n\n    .dataframe tbody tr th {\n        vertical-align: top;\n    }\n\n    .dataframe thead th {\n        text-align: right;\n    }\n</style>\n<table border=\"1\" class=\"dataframe\">\n  <thead>\n    <tr style=\"text-align: right;\">\n      <th></th>\n      <th>neighbourhood_group</th>\n      <th>latitude</th>\n      <th>longitude</th>\n      <th>room_type</th>\n      <th>minimum_nights</th>\n      <th>number_of_reviews</th>\n      <th>reviews_per_month</th>\n      <th>calculated_host_listings_count</th>\n      <th>availability_365</th>\n      <th>number_of_reviews_ltm</th>\n      <th>reviewed</th>\n    </tr>\n  </thead>\n  <tbody>\n    <tr>\n      <th>0</th>\n      <td>Manhattan</td>\n      <td>40.75356</td>\n      <td>-73.98559</td>\n      <td>Entire home/apt</td>\n      <td>30</td>\n      <td>49</td>\n      <td>0.30</td>\n      <td>3</td>\n      <td>314</td>\n      <td>1</td>\n      <td>1</td>\n    </tr>\n    <tr>\n      <th>1</th>\n      <td>Brooklyn</td>\n      <td>40.68535</td>\n      <td>-73.95512</td>\n      <td>Private room</td>\n      <td>30</td>\n      <td>50</td>\n      <td>0.30</td>\n      <td>2</td>\n      <td>365</td>\n      <td>0</td>\n      <td>1</td>\n    </tr>\n    <tr>\n      <th>2</th>\n      <td>Manhattan</td>\n      <td>40.80380</td>\n      <td>-73.96751</td>\n      <td>Private room</td>\n      <td>2</td>\n      <td>118</td>\n      <td>0.72</td>\n      <td>1</td>\n      <td>0</td>\n      <td>0</td>\n      <td>1</td>\n    </tr>\n    <tr>\n      <th>3</th>\n      <td>Manhattan</td>\n      <td>40.76457</td>\n      <td>-73.98317</td>\n      <td>Private room</td>\n      <td>2</td>\n      <td>575</td>\n      <td>3.41</td>\n      <td>1</td>\n      <td>106</td>\n      <td>52</td>\n      <td>1</td>\n    </tr>\n    <tr>\n      <th>4</th>\n      <td>Brooklyn</td>\n      <td>40.66265</td>\n      <td>-73.99454</td>\n      <td>Entire home/apt</td>\n      <td>60</td>\n      <td>3</td>\n      <td>0.03</td>\n      <td>1</td>\n      <td>181</td>\n      <td>1</td>\n      <td>1</td>\n    </tr>\n  </tbody>\n</table>\n</div>"
     },
     "execution_count": 14,
     "metadata": {},
     "output_type": "execute_result"
    }
   ],
   "source": [
    "X.head()"
   ],
   "metadata": {
    "collapsed": false,
    "ExecuteTime": {
     "end_time": "2023-06-19T11:32:05.192296200Z",
     "start_time": "2023-06-19T11:32:05.189516400Z"
    }
   }
  },
  {
   "cell_type": "code",
   "execution_count": 17,
   "outputs": [],
   "source": [
    "# Converting neighbourhood_group and room_type to one-hot encoding\n",
    "encoded_neighbourhood_group = pd.get_dummies(X[\"neighbourhood_group\"])\n",
    "encoded_room_type = pd.get_dummies(X[\"room_type\"])"
   ],
   "metadata": {
    "collapsed": false,
    "ExecuteTime": {
     "end_time": "2023-06-19T11:40:47.801191700Z",
     "start_time": "2023-06-19T11:40:47.781247900Z"
    }
   }
  },
  {
   "cell_type": "code",
   "execution_count": 20,
   "outputs": [],
   "source": [
    "X = pd.concat([X, encoded_neighbourhood_group, encoded_room_type], axis=1 )"
   ],
   "metadata": {
    "collapsed": false,
    "ExecuteTime": {
     "end_time": "2023-06-19T11:41:37.122881100Z",
     "start_time": "2023-06-19T11:41:37.117096100Z"
    }
   }
  },
  {
   "cell_type": "code",
   "execution_count": 24,
   "outputs": [],
   "source": [
    "X.drop([\"neighbourhood_group\",\"room_type\"], axis=1, inplace=True)"
   ],
   "metadata": {
    "collapsed": false,
    "ExecuteTime": {
     "end_time": "2023-06-19T11:43:19.552849300Z",
     "start_time": "2023-06-19T11:43:19.547818400Z"
    }
   }
  },
  {
   "cell_type": "code",
   "execution_count": 25,
   "outputs": [
    {
     "data": {
      "text/plain": "Index(['latitude', 'longitude', 'minimum_nights', 'number_of_reviews',\n       'reviews_per_month', 'calculated_host_listings_count',\n       'availability_365', 'number_of_reviews_ltm', 'reviewed', 'Bronx',\n       'Brooklyn', 'Manhattan', 'Queens', 'Staten Island', 'Entire home/apt',\n       'Hotel room', 'Private room', 'Shared room'],\n      dtype='object')"
     },
     "execution_count": 25,
     "metadata": {},
     "output_type": "execute_result"
    }
   ],
   "source": [
    "X.columns"
   ],
   "metadata": {
    "collapsed": false,
    "ExecuteTime": {
     "end_time": "2023-06-19T11:43:24.617603600Z",
     "start_time": "2023-06-19T11:43:24.614591700Z"
    }
   }
  },
  {
   "cell_type": "code",
   "execution_count": null,
   "outputs": [],
   "source": [],
   "metadata": {
    "collapsed": false
   }
  }
 ],
 "metadata": {
  "kernelspec": {
   "display_name": "Python 3",
   "language": "python",
   "name": "python3"
  },
  "language_info": {
   "codemirror_mode": {
    "name": "ipython",
    "version": 2
   },
   "file_extension": ".py",
   "mimetype": "text/x-python",
   "name": "python",
   "nbconvert_exporter": "python",
   "pygments_lexer": "ipython2",
   "version": "2.7.6"
  }
 },
 "nbformat": 4,
 "nbformat_minor": 0
}
