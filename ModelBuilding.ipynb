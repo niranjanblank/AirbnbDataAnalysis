{
 "cells": [
  {
   "cell_type": "markdown",
   "source": [
    "# Airbnb NYC Price Prediction Model\n",
    "\n",
    "## Introduction\n",
    "This notebook presents the process of creating a predictive model for Airbnb listing prices in New York City. After the initial data exploration and pre-processing steps performed in previous notebooks, we now proceed to the modeling phase.\n",
    "\n",
    "## Objectives\n",
    "The goal is to create a model that accurately predicts the price of an Airbnb listing based on features we deem significant through feature selection methods. This model could be beneficial for both hosts and guests, enabling them to understand pricing trends and make informed decisions.\n",
    "\n",
    "## Methodology\n",
    "We start by further pre-processing our data for modeling. This includes encoding categorical variables, scaling numerical features, and performing feature selection to choose the most relevant features for our model.\n",
    "\n",
    "We then build several candidate predictive models, including Random Forest Regression, Support Vector Regression, and Linear Regression. Each of these models is trained on our dataset, and we evaluate their performance using cross-validation techniques.\n",
    "\n",
    "The model performance is determined by their root mean square error(RMSE) score. The model with lowest RMSE is selected as our final model. This model is then saved for future use.\n",
    "\n",
    "We also include a section that demonstrates how to use our saved model to make predictions on unseen data."
   ],
   "metadata": {
    "collapsed": false
   }
  },
  {
   "cell_type": "code",
   "execution_count": 128,
   "outputs": [],
   "source": [
    "import pandas as pd"
   ],
   "metadata": {
    "collapsed": false,
    "ExecuteTime": {
     "end_time": "2023-06-21T08:19:19.918729100Z",
     "start_time": "2023-06-21T08:19:19.915638Z"
    }
   }
  },
  {
   "cell_type": "code",
   "execution_count": 129,
   "outputs": [],
   "source": [
    "# Reading the data\n",
    "listing_dataframe = pd.read_csv(\"cleaned_listing_data.csv\")"
   ],
   "metadata": {
    "collapsed": false,
    "ExecuteTime": {
     "end_time": "2023-06-21T08:19:20.210684300Z",
     "start_time": "2023-06-21T08:19:20.144941500Z"
    }
   }
  },
  {
   "cell_type": "code",
   "execution_count": 130,
   "outputs": [
    {
     "data": {
      "text/plain": "id                                  int64\nname                               object\nhost_id                             int64\nhost_name                          object\nneighbourhood_group                object\nneighbourhood                      object\nlatitude                          float64\nlongitude                         float64\nroom_type                          object\nprice                               int64\nminimum_nights                      int64\nnumber_of_reviews                   int64\nreviews_per_month                 float64\ncalculated_host_listings_count      int64\navailability_365                    int64\nnumber_of_reviews_ltm               int64\nreviewed                            int64\ndtype: object"
     },
     "execution_count": 130,
     "metadata": {},
     "output_type": "execute_result"
    }
   ],
   "source": [
    "listing_dataframe.dtypes"
   ],
   "metadata": {
    "collapsed": false,
    "ExecuteTime": {
     "end_time": "2023-06-21T08:19:20.471146500Z",
     "start_time": "2023-06-21T08:19:20.464114500Z"
    }
   }
  },
  {
   "cell_type": "markdown",
   "source": [
    "The columns such as host_name, name , neighhbourhood doesn't provide much predictive power, and also has high cardinality. So dropping them for data modelling. Similarly, host_id and id don't have much predictive"
   ],
   "metadata": {
    "collapsed": false
   }
  },
  {
   "cell_type": "code",
   "execution_count": 131,
   "outputs": [],
   "source": [
    "X = listing_dataframe.drop(['id', 'host_id', 'name', 'host_name', 'neighbourhood', 'price'],axis=1)\n",
    "y = listing_dataframe['price']"
   ],
   "metadata": {
    "collapsed": false,
    "ExecuteTime": {
     "end_time": "2023-06-21T08:19:21.012989100Z",
     "start_time": "2023-06-21T08:19:21.005931700Z"
    }
   }
  },
  {
   "cell_type": "code",
   "execution_count": 132,
   "outputs": [
    {
     "data": {
      "text/plain": "  neighbourhood_group  latitude  longitude        room_type  minimum_nights  \\\n0           Manhattan  40.75356  -73.98559  Entire home/apt              30   \n1            Brooklyn  40.68535  -73.95512     Private room              30   \n2           Manhattan  40.80380  -73.96751     Private room               2   \n3           Manhattan  40.76457  -73.98317     Private room               2   \n4            Brooklyn  40.66265  -73.99454  Entire home/apt              60   \n\n   number_of_reviews  reviews_per_month  calculated_host_listings_count  \\\n0                 49               0.30                               3   \n1                 50               0.30                               2   \n2                118               0.72                               1   \n3                575               3.41                               1   \n4                  3               0.03                               1   \n\n   availability_365  number_of_reviews_ltm  reviewed  \n0               314                      1         1  \n1               365                      0         1  \n2                 0                      0         1  \n3               106                     52         1  \n4               181                      1         1  ",
      "text/html": "<div>\n<style scoped>\n    .dataframe tbody tr th:only-of-type {\n        vertical-align: middle;\n    }\n\n    .dataframe tbody tr th {\n        vertical-align: top;\n    }\n\n    .dataframe thead th {\n        text-align: right;\n    }\n</style>\n<table border=\"1\" class=\"dataframe\">\n  <thead>\n    <tr style=\"text-align: right;\">\n      <th></th>\n      <th>neighbourhood_group</th>\n      <th>latitude</th>\n      <th>longitude</th>\n      <th>room_type</th>\n      <th>minimum_nights</th>\n      <th>number_of_reviews</th>\n      <th>reviews_per_month</th>\n      <th>calculated_host_listings_count</th>\n      <th>availability_365</th>\n      <th>number_of_reviews_ltm</th>\n      <th>reviewed</th>\n    </tr>\n  </thead>\n  <tbody>\n    <tr>\n      <th>0</th>\n      <td>Manhattan</td>\n      <td>40.75356</td>\n      <td>-73.98559</td>\n      <td>Entire home/apt</td>\n      <td>30</td>\n      <td>49</td>\n      <td>0.30</td>\n      <td>3</td>\n      <td>314</td>\n      <td>1</td>\n      <td>1</td>\n    </tr>\n    <tr>\n      <th>1</th>\n      <td>Brooklyn</td>\n      <td>40.68535</td>\n      <td>-73.95512</td>\n      <td>Private room</td>\n      <td>30</td>\n      <td>50</td>\n      <td>0.30</td>\n      <td>2</td>\n      <td>365</td>\n      <td>0</td>\n      <td>1</td>\n    </tr>\n    <tr>\n      <th>2</th>\n      <td>Manhattan</td>\n      <td>40.80380</td>\n      <td>-73.96751</td>\n      <td>Private room</td>\n      <td>2</td>\n      <td>118</td>\n      <td>0.72</td>\n      <td>1</td>\n      <td>0</td>\n      <td>0</td>\n      <td>1</td>\n    </tr>\n    <tr>\n      <th>3</th>\n      <td>Manhattan</td>\n      <td>40.76457</td>\n      <td>-73.98317</td>\n      <td>Private room</td>\n      <td>2</td>\n      <td>575</td>\n      <td>3.41</td>\n      <td>1</td>\n      <td>106</td>\n      <td>52</td>\n      <td>1</td>\n    </tr>\n    <tr>\n      <th>4</th>\n      <td>Brooklyn</td>\n      <td>40.66265</td>\n      <td>-73.99454</td>\n      <td>Entire home/apt</td>\n      <td>60</td>\n      <td>3</td>\n      <td>0.03</td>\n      <td>1</td>\n      <td>181</td>\n      <td>1</td>\n      <td>1</td>\n    </tr>\n  </tbody>\n</table>\n</div>"
     },
     "execution_count": 132,
     "metadata": {},
     "output_type": "execute_result"
    }
   ],
   "source": [
    "X.head()"
   ],
   "metadata": {
    "collapsed": false,
    "ExecuteTime": {
     "end_time": "2023-06-21T08:19:21.064097500Z",
     "start_time": "2023-06-21T08:19:21.059571800Z"
    }
   }
  },
  {
   "cell_type": "markdown",
   "source": [
    "### Converting the categorical values to one-hot encoding that can be understood by the model"
   ],
   "metadata": {
    "collapsed": false
   }
  },
  {
   "cell_type": "code",
   "execution_count": 133,
   "outputs": [],
   "source": [
    "# Converting neighbourhood_group and room_type to one-hot encoding\n",
    "encoded_neighbourhood_group = pd.get_dummies(X[\"neighbourhood_group\"], prefix=\"neighbourhood_group\")\n",
    "encoded_room_type = pd.get_dummies(X[\"room_type\"], prefix=\"room_type\")"
   ],
   "metadata": {
    "collapsed": false,
    "ExecuteTime": {
     "end_time": "2023-06-21T08:19:21.150926Z",
     "start_time": "2023-06-21T08:19:21.122286300Z"
    }
   }
  },
  {
   "cell_type": "code",
   "execution_count": 134,
   "outputs": [],
   "source": [
    "# adding the one-hot values to the dataframe\n",
    "X = pd.concat([X, encoded_neighbourhood_group, encoded_room_type], axis=1 )"
   ],
   "metadata": {
    "collapsed": false,
    "ExecuteTime": {
     "end_time": "2023-06-21T08:19:21.152432400Z",
     "start_time": "2023-06-21T08:19:21.150462500Z"
    }
   }
  },
  {
   "cell_type": "code",
   "execution_count": 135,
   "outputs": [],
   "source": [
    "# dropping the original categorical columns\n",
    "X.drop([\"neighbourhood_group\",\"room_type\"], axis=1, inplace=True)"
   ],
   "metadata": {
    "collapsed": false,
    "ExecuteTime": {
     "end_time": "2023-06-21T08:19:21.211149800Z",
     "start_time": "2023-06-21T08:19:21.198432900Z"
    }
   }
  },
  {
   "cell_type": "code",
   "execution_count": 136,
   "outputs": [
    {
     "data": {
      "text/plain": "Index(['latitude', 'longitude', 'minimum_nights', 'number_of_reviews',\n       'reviews_per_month', 'calculated_host_listings_count',\n       'availability_365', 'number_of_reviews_ltm', 'reviewed',\n       'neighbourhood_group_Bronx', 'neighbourhood_group_Brooklyn',\n       'neighbourhood_group_Manhattan', 'neighbourhood_group_Queens',\n       'neighbourhood_group_Staten Island', 'room_type_Entire home/apt',\n       'room_type_Hotel room', 'room_type_Private room',\n       'room_type_Shared room'],\n      dtype='object')"
     },
     "execution_count": 136,
     "metadata": {},
     "output_type": "execute_result"
    }
   ],
   "source": [
    "X.columns"
   ],
   "metadata": {
    "collapsed": false,
    "ExecuteTime": {
     "end_time": "2023-06-21T08:19:21.262010600Z",
     "start_time": "2023-06-21T08:19:21.257640600Z"
    }
   }
  },
  {
   "cell_type": "code",
   "execution_count": 137,
   "outputs": [
    {
     "data": {
      "text/plain": "   latitude  longitude  minimum_nights  number_of_reviews  reviews_per_month  \\\n0  40.75356  -73.98559              30                 49               0.30   \n1  40.68535  -73.95512              30                 50               0.30   \n2  40.80380  -73.96751               2                118               0.72   \n3  40.76457  -73.98317               2                575               3.41   \n4  40.66265  -73.99454              60                  3               0.03   \n\n   calculated_host_listings_count  availability_365  number_of_reviews_ltm  \\\n0                               3               314                      1   \n1                               2               365                      0   \n2                               1                 0                      0   \n3                               1               106                     52   \n4                               1               181                      1   \n\n   reviewed  neighbourhood_group_Bronx  neighbourhood_group_Brooklyn  \\\n0         1                      False                         False   \n1         1                      False                          True   \n2         1                      False                         False   \n3         1                      False                         False   \n4         1                      False                          True   \n\n   neighbourhood_group_Manhattan  neighbourhood_group_Queens  \\\n0                           True                       False   \n1                          False                       False   \n2                           True                       False   \n3                           True                       False   \n4                          False                       False   \n\n   neighbourhood_group_Staten Island  room_type_Entire home/apt  \\\n0                              False                       True   \n1                              False                      False   \n2                              False                      False   \n3                              False                      False   \n4                              False                       True   \n\n   room_type_Hotel room  room_type_Private room  room_type_Shared room  \n0                 False                   False                  False  \n1                 False                    True                  False  \n2                 False                    True                  False  \n3                 False                    True                  False  \n4                 False                   False                  False  ",
      "text/html": "<div>\n<style scoped>\n    .dataframe tbody tr th:only-of-type {\n        vertical-align: middle;\n    }\n\n    .dataframe tbody tr th {\n        vertical-align: top;\n    }\n\n    .dataframe thead th {\n        text-align: right;\n    }\n</style>\n<table border=\"1\" class=\"dataframe\">\n  <thead>\n    <tr style=\"text-align: right;\">\n      <th></th>\n      <th>latitude</th>\n      <th>longitude</th>\n      <th>minimum_nights</th>\n      <th>number_of_reviews</th>\n      <th>reviews_per_month</th>\n      <th>calculated_host_listings_count</th>\n      <th>availability_365</th>\n      <th>number_of_reviews_ltm</th>\n      <th>reviewed</th>\n      <th>neighbourhood_group_Bronx</th>\n      <th>neighbourhood_group_Brooklyn</th>\n      <th>neighbourhood_group_Manhattan</th>\n      <th>neighbourhood_group_Queens</th>\n      <th>neighbourhood_group_Staten Island</th>\n      <th>room_type_Entire home/apt</th>\n      <th>room_type_Hotel room</th>\n      <th>room_type_Private room</th>\n      <th>room_type_Shared room</th>\n    </tr>\n  </thead>\n  <tbody>\n    <tr>\n      <th>0</th>\n      <td>40.75356</td>\n      <td>-73.98559</td>\n      <td>30</td>\n      <td>49</td>\n      <td>0.30</td>\n      <td>3</td>\n      <td>314</td>\n      <td>1</td>\n      <td>1</td>\n      <td>False</td>\n      <td>False</td>\n      <td>True</td>\n      <td>False</td>\n      <td>False</td>\n      <td>True</td>\n      <td>False</td>\n      <td>False</td>\n      <td>False</td>\n    </tr>\n    <tr>\n      <th>1</th>\n      <td>40.68535</td>\n      <td>-73.95512</td>\n      <td>30</td>\n      <td>50</td>\n      <td>0.30</td>\n      <td>2</td>\n      <td>365</td>\n      <td>0</td>\n      <td>1</td>\n      <td>False</td>\n      <td>True</td>\n      <td>False</td>\n      <td>False</td>\n      <td>False</td>\n      <td>False</td>\n      <td>False</td>\n      <td>True</td>\n      <td>False</td>\n    </tr>\n    <tr>\n      <th>2</th>\n      <td>40.80380</td>\n      <td>-73.96751</td>\n      <td>2</td>\n      <td>118</td>\n      <td>0.72</td>\n      <td>1</td>\n      <td>0</td>\n      <td>0</td>\n      <td>1</td>\n      <td>False</td>\n      <td>False</td>\n      <td>True</td>\n      <td>False</td>\n      <td>False</td>\n      <td>False</td>\n      <td>False</td>\n      <td>True</td>\n      <td>False</td>\n    </tr>\n    <tr>\n      <th>3</th>\n      <td>40.76457</td>\n      <td>-73.98317</td>\n      <td>2</td>\n      <td>575</td>\n      <td>3.41</td>\n      <td>1</td>\n      <td>106</td>\n      <td>52</td>\n      <td>1</td>\n      <td>False</td>\n      <td>False</td>\n      <td>True</td>\n      <td>False</td>\n      <td>False</td>\n      <td>False</td>\n      <td>False</td>\n      <td>True</td>\n      <td>False</td>\n    </tr>\n    <tr>\n      <th>4</th>\n      <td>40.66265</td>\n      <td>-73.99454</td>\n      <td>60</td>\n      <td>3</td>\n      <td>0.03</td>\n      <td>1</td>\n      <td>181</td>\n      <td>1</td>\n      <td>1</td>\n      <td>False</td>\n      <td>True</td>\n      <td>False</td>\n      <td>False</td>\n      <td>False</td>\n      <td>True</td>\n      <td>False</td>\n      <td>False</td>\n      <td>False</td>\n    </tr>\n  </tbody>\n</table>\n</div>"
     },
     "execution_count": 137,
     "metadata": {},
     "output_type": "execute_result"
    }
   ],
   "source": [
    "X.head()"
   ],
   "metadata": {
    "collapsed": false,
    "ExecuteTime": {
     "end_time": "2023-06-21T08:19:21.299239700Z",
     "start_time": "2023-06-21T08:19:21.260007800Z"
    }
   }
  },
  {
   "cell_type": "code",
   "execution_count": 138,
   "outputs": [],
   "source": [
    "from sklearn.model_selection import train_test_split\n",
    "X_train,X_test, y_train,y_test = train_test_split(X,y, test_size=0.3,random_state=0)"
   ],
   "metadata": {
    "collapsed": false,
    "ExecuteTime": {
     "end_time": "2023-06-21T08:19:21.300239600Z",
     "start_time": "2023-06-21T08:19:21.273807600Z"
    }
   }
  },
  {
   "cell_type": "markdown",
   "source": [
    "## Feature Selection\n",
    "We will use feature importance from random forest and correlation to select features for our model"
   ],
   "metadata": {
    "collapsed": false
   }
  },
  {
   "cell_type": "code",
   "execution_count": 139,
   "outputs": [],
   "source": [
    "from sklearn.ensemble import RandomForestRegressor"
   ],
   "metadata": {
    "collapsed": false,
    "ExecuteTime": {
     "end_time": "2023-06-21T08:19:21.418179900Z",
     "start_time": "2023-06-21T08:19:21.355113700Z"
    }
   }
  },
  {
   "cell_type": "code",
   "execution_count": 140,
   "outputs": [],
   "source": [
    "# craeting simple model for calculating feature importances\n",
    "rf = RandomForestRegressor(n_estimators=100, random_state=0)"
   ],
   "metadata": {
    "collapsed": false,
    "ExecuteTime": {
     "end_time": "2023-06-21T08:19:21.456171700Z",
     "start_time": "2023-06-21T08:19:21.394658200Z"
    }
   }
  },
  {
   "cell_type": "code",
   "execution_count": 141,
   "outputs": [
    {
     "data": {
      "text/plain": "RandomForestRegressor(random_state=0)",
      "text/html": "<style>#sk-container-id-4 {color: black;background-color: white;}#sk-container-id-4 pre{padding: 0;}#sk-container-id-4 div.sk-toggleable {background-color: white;}#sk-container-id-4 label.sk-toggleable__label {cursor: pointer;display: block;width: 100%;margin-bottom: 0;padding: 0.3em;box-sizing: border-box;text-align: center;}#sk-container-id-4 label.sk-toggleable__label-arrow:before {content: \"▸\";float: left;margin-right: 0.25em;color: #696969;}#sk-container-id-4 label.sk-toggleable__label-arrow:hover:before {color: black;}#sk-container-id-4 div.sk-estimator:hover label.sk-toggleable__label-arrow:before {color: black;}#sk-container-id-4 div.sk-toggleable__content {max-height: 0;max-width: 0;overflow: hidden;text-align: left;background-color: #f0f8ff;}#sk-container-id-4 div.sk-toggleable__content pre {margin: 0.2em;color: black;border-radius: 0.25em;background-color: #f0f8ff;}#sk-container-id-4 input.sk-toggleable__control:checked~div.sk-toggleable__content {max-height: 200px;max-width: 100%;overflow: auto;}#sk-container-id-4 input.sk-toggleable__control:checked~label.sk-toggleable__label-arrow:before {content: \"▾\";}#sk-container-id-4 div.sk-estimator input.sk-toggleable__control:checked~label.sk-toggleable__label {background-color: #d4ebff;}#sk-container-id-4 div.sk-label input.sk-toggleable__control:checked~label.sk-toggleable__label {background-color: #d4ebff;}#sk-container-id-4 input.sk-hidden--visually {border: 0;clip: rect(1px 1px 1px 1px);clip: rect(1px, 1px, 1px, 1px);height: 1px;margin: -1px;overflow: hidden;padding: 0;position: absolute;width: 1px;}#sk-container-id-4 div.sk-estimator {font-family: monospace;background-color: #f0f8ff;border: 1px dotted black;border-radius: 0.25em;box-sizing: border-box;margin-bottom: 0.5em;}#sk-container-id-4 div.sk-estimator:hover {background-color: #d4ebff;}#sk-container-id-4 div.sk-parallel-item::after {content: \"\";width: 100%;border-bottom: 1px solid gray;flex-grow: 1;}#sk-container-id-4 div.sk-label:hover label.sk-toggleable__label {background-color: #d4ebff;}#sk-container-id-4 div.sk-serial::before {content: \"\";position: absolute;border-left: 1px solid gray;box-sizing: border-box;top: 0;bottom: 0;left: 50%;z-index: 0;}#sk-container-id-4 div.sk-serial {display: flex;flex-direction: column;align-items: center;background-color: white;padding-right: 0.2em;padding-left: 0.2em;position: relative;}#sk-container-id-4 div.sk-item {position: relative;z-index: 1;}#sk-container-id-4 div.sk-parallel {display: flex;align-items: stretch;justify-content: center;background-color: white;position: relative;}#sk-container-id-4 div.sk-item::before, #sk-container-id-4 div.sk-parallel-item::before {content: \"\";position: absolute;border-left: 1px solid gray;box-sizing: border-box;top: 0;bottom: 0;left: 50%;z-index: -1;}#sk-container-id-4 div.sk-parallel-item {display: flex;flex-direction: column;z-index: 1;position: relative;background-color: white;}#sk-container-id-4 div.sk-parallel-item:first-child::after {align-self: flex-end;width: 50%;}#sk-container-id-4 div.sk-parallel-item:last-child::after {align-self: flex-start;width: 50%;}#sk-container-id-4 div.sk-parallel-item:only-child::after {width: 0;}#sk-container-id-4 div.sk-dashed-wrapped {border: 1px dashed gray;margin: 0 0.4em 0.5em 0.4em;box-sizing: border-box;padding-bottom: 0.4em;background-color: white;}#sk-container-id-4 div.sk-label label {font-family: monospace;font-weight: bold;display: inline-block;line-height: 1.2em;}#sk-container-id-4 div.sk-label-container {text-align: center;}#sk-container-id-4 div.sk-container {/* jupyter's `normalize.less` sets `[hidden] { display: none; }` but bootstrap.min.css set `[hidden] { display: none !important; }` so we also need the `!important` here to be able to override the default hidden behavior on the sphinx rendered scikit-learn.org. See: https://github.com/scikit-learn/scikit-learn/issues/21755 */display: inline-block !important;position: relative;}#sk-container-id-4 div.sk-text-repr-fallback {display: none;}</style><div id=\"sk-container-id-4\" class=\"sk-top-container\"><div class=\"sk-text-repr-fallback\"><pre>RandomForestRegressor(random_state=0)</pre><b>In a Jupyter environment, please rerun this cell to show the HTML representation or trust the notebook. <br />On GitHub, the HTML representation is unable to render, please try loading this page with nbviewer.org.</b></div><div class=\"sk-container\" hidden><div class=\"sk-item\"><div class=\"sk-estimator sk-toggleable\"><input class=\"sk-toggleable__control sk-hidden--visually\" id=\"sk-estimator-id-10\" type=\"checkbox\" checked><label for=\"sk-estimator-id-10\" class=\"sk-toggleable__label sk-toggleable__label-arrow\">RandomForestRegressor</label><div class=\"sk-toggleable__content\"><pre>RandomForestRegressor(random_state=0)</pre></div></div></div></div></div>"
     },
     "execution_count": 141,
     "metadata": {},
     "output_type": "execute_result"
    }
   ],
   "source": [
    "rf.fit(X_train,y_train)"
   ],
   "metadata": {
    "collapsed": false,
    "ExecuteTime": {
     "end_time": "2023-06-21T08:19:34.320710800Z",
     "start_time": "2023-06-21T08:19:21.426171900Z"
    }
   }
  },
  {
   "cell_type": "code",
   "execution_count": 142,
   "outputs": [],
   "source": [
    "# Get importances of ffeatures\n",
    "importances = rf.feature_importances_"
   ],
   "metadata": {
    "collapsed": false,
    "ExecuteTime": {
     "end_time": "2023-06-21T08:19:34.341015100Z",
     "start_time": "2023-06-21T08:19:34.321710800Z"
    }
   }
  },
  {
   "cell_type": "code",
   "execution_count": 143,
   "outputs": [],
   "source": [
    "# Convert the importances into one-dimensional 1darray with corresponding df column names as axis labels\n",
    "f_importances = pd.Series(importances, X.columns)"
   ],
   "metadata": {
    "collapsed": false,
    "ExecuteTime": {
     "end_time": "2023-06-21T08:19:34.343484200Z",
     "start_time": "2023-06-21T08:19:34.341977400Z"
    }
   }
  },
  {
   "cell_type": "code",
   "execution_count": 144,
   "outputs": [
    {
     "data": {
      "text/plain": "latitude                             0.147414\nlongitude                            0.188003\nminimum_nights                       0.073829\nnumber_of_reviews                    0.043890\nreviews_per_month                    0.062503\ncalculated_host_listings_count       0.084440\navailability_365                     0.069490\nnumber_of_reviews_ltm                0.026987\nreviewed                             0.002960\nneighbourhood_group_Bronx            0.000448\nneighbourhood_group_Brooklyn         0.001982\nneighbourhood_group_Manhattan        0.001760\nneighbourhood_group_Queens           0.001760\nneighbourhood_group_Staten Island    0.000047\nroom_type_Entire home/apt            0.290458\nroom_type_Hotel room                 0.001309\nroom_type_Private room               0.001524\nroom_type_Shared room                0.001196\ndtype: float64"
     },
     "execution_count": 144,
     "metadata": {},
     "output_type": "execute_result"
    }
   ],
   "source": [
    "f_importances"
   ],
   "metadata": {
    "collapsed": false,
    "ExecuteTime": {
     "end_time": "2023-06-21T08:19:34.351634200Z",
     "start_time": "2023-06-21T08:19:34.343484200Z"
    }
   }
  },
  {
   "cell_type": "code",
   "execution_count": 145,
   "outputs": [],
   "source": [
    "# Categorical features that have been one_hot_encoded\n",
    "categorical_features = ['neighbourhood_group', 'room_type']"
   ],
   "metadata": {
    "collapsed": false,
    "ExecuteTime": {
     "end_time": "2023-06-21T08:19:34.357644400Z",
     "start_time": "2023-06-21T08:19:34.350633Z"
    }
   }
  },
  {
   "cell_type": "code",
   "execution_count": 146,
   "outputs": [
    {
     "name": "stdout",
     "output_type": "stream",
     "text": [
      "Total importance for neighbourhood_group: 0.005997663767217159\n",
      "Total importance for room_type: 0.2944879149803341\n"
     ]
    }
   ],
   "source": [
    "# showing the total importance of categorical features\n",
    "for feature in categorical_features:\n",
    "    one_hot_columns = [col for col in f_importances.index if col.startswith(feature)]\n",
    "    total_importance = f_importances[one_hot_columns].sum()\n",
    "    print(f'Total importance for {feature}: {total_importance}')"
   ],
   "metadata": {
    "collapsed": false,
    "ExecuteTime": {
     "end_time": "2023-06-21T08:19:34.366373900Z",
     "start_time": "2023-06-21T08:19:34.357644400Z"
    }
   }
  },
  {
   "cell_type": "code",
   "execution_count": 147,
   "outputs": [],
   "source": [
    "# selecting features with importance greater than 0.01\n",
    "selected_features_from_rf = f_importances[f_importances >=0.01]"
   ],
   "metadata": {
    "collapsed": false,
    "ExecuteTime": {
     "end_time": "2023-06-21T08:19:34.372627300Z",
     "start_time": "2023-06-21T08:19:34.364371Z"
    }
   }
  },
  {
   "cell_type": "code",
   "execution_count": 148,
   "outputs": [
    {
     "data": {
      "text/plain": "latitude                          0.147414\nlongitude                         0.188003\nminimum_nights                    0.073829\nnumber_of_reviews                 0.043890\nreviews_per_month                 0.062503\ncalculated_host_listings_count    0.084440\navailability_365                  0.069490\nnumber_of_reviews_ltm             0.026987\nroom_type_Entire home/apt         0.290458\ndtype: float64"
     },
     "execution_count": 148,
     "metadata": {},
     "output_type": "execute_result"
    }
   ],
   "source": [
    "selected_features_from_rf"
   ],
   "metadata": {
    "collapsed": false,
    "ExecuteTime": {
     "end_time": "2023-06-21T08:19:34.387830600Z",
     "start_time": "2023-06-21T08:19:34.370214200Z"
    }
   }
  },
  {
   "cell_type": "markdown",
   "source": [],
   "metadata": {
    "collapsed": false
   }
  },
  {
   "cell_type": "code",
   "execution_count": 149,
   "outputs": [],
   "source": [
    "import numpy as np"
   ],
   "metadata": {
    "collapsed": false,
    "ExecuteTime": {
     "end_time": "2023-06-21T08:19:34.406396300Z",
     "start_time": "2023-06-21T08:19:34.377100500Z"
    }
   }
  },
  {
   "cell_type": "code",
   "execution_count": 150,
   "outputs": [
    {
     "name": "stdout",
     "output_type": "stream",
     "text": [
      "number_of_reviews_ltm is highly correlated with ['reviews_per_month']\n"
     ]
    }
   ],
   "source": [
    "\n",
    "# Calculate the correlation matrix\n",
    "correlation_matrix = X_train.corr()\n",
    "\n",
    "# Create a mask for the upper triangle\n",
    "mask = np.triu(np.ones_like(correlation_matrix, dtype=bool))\n",
    "\n",
    "# Apply the mask to the correlation matrix\n",
    "correlation_matrix_upper = correlation_matrix.where(mask)\n",
    "\n",
    "# Find pairs of features that have a correlation higher than 0.8\n",
    "highly_correlated_pairs = {}\n",
    "\n",
    "for col in correlation_matrix_upper.columns:\n",
    "    above_threshold_vars = correlation_matrix_upper.loc[(correlation_matrix_upper[col] > 0.8) & (correlation_matrix_upper[col] < 1), col].index.tolist()\n",
    "    if above_threshold_vars:\n",
    "        highly_correlated_pairs[col] = above_threshold_vars\n",
    "\n",
    "# Print pairs of highly correlated features\n",
    "for key, value in highly_correlated_pairs.items():\n",
    "    print(f\"{key} is highly correlated with {value}\")"
   ],
   "metadata": {
    "collapsed": false,
    "ExecuteTime": {
     "end_time": "2023-06-21T08:19:34.412789Z",
     "start_time": "2023-06-21T08:19:34.384831100Z"
    }
   }
  },
  {
   "cell_type": "markdown",
   "source": [
    "Based on the random forrest regressor, we select reviews_per_month, number_of_reviews_ltm, minimum_nights, longitude, latitude, calculated_host_listings_count, availability_365 as the selected features. Since number_of_reviews_ltm and reviews_per_month are highly correalted, we only use review_per_month as it has greater importance in the random forrest regressor. Other than that after converting room_type and neighbourhood_group to one-hot encoding, we got very less imtance for neighbourhood_group, but there might be complex relationship which we couldnt perceive, so we will use both of those categorical variables.\n",
    "\n",
    "Thus, the variables we select are reviews_per_month, minimum_nights, longitude, latitude, calculated_host_listings_count, availability_365, neighbourhood_group and room_type\n"
   ],
   "metadata": {
    "collapsed": false
   }
  },
  {
   "cell_type": "code",
   "execution_count": 151,
   "outputs": [],
   "source": [
    "# selecting the variables to use\n",
    "variables_to_use = ['latitude', 'longitude', 'minimum_nights',\n",
    "                     'reviews_per_month', 'calculated_host_listings_count',\n",
    "                     'availability_365', 'neighbourhood_group_Bronx', 'neighbourhood_group_Brooklyn',\n",
    "                     'neighbourhood_group_Manhattan', 'neighbourhood_group_Queens',\n",
    "                     'neighbourhood_group_Staten Island', 'room_type_Entire home/apt',\n",
    "                     'room_type_Hotel room', 'room_type_Private room',\n",
    "                     'room_type_Shared room']"
   ],
   "metadata": {
    "collapsed": false,
    "ExecuteTime": {
     "end_time": "2023-06-21T08:19:34.413792400Z",
     "start_time": "2023-06-21T08:19:34.406396300Z"
    }
   }
  },
  {
   "cell_type": "code",
   "execution_count": 152,
   "outputs": [],
   "source": [
    "X_train = X_train[variables_to_use]\n",
    "X_test = X_test[variables_to_use]"
   ],
   "metadata": {
    "collapsed": false,
    "ExecuteTime": {
     "end_time": "2023-06-21T08:19:34.413792400Z",
     "start_time": "2023-06-21T08:19:34.406396300Z"
    }
   }
  },
  {
   "cell_type": "markdown",
   "source": [
    "## Creating pipelines for training various models"
   ],
   "metadata": {
    "collapsed": false
   }
  },
  {
   "cell_type": "code",
   "execution_count": 153,
   "outputs": [],
   "source": [
    "from sklearn.pipeline import Pipeline\n",
    "from sklearn.compose import ColumnTransformer\n",
    "from sklearn.preprocessing import MinMaxScaler\n",
    "from sklearn.svm import SVR"
   ],
   "metadata": {
    "collapsed": false,
    "ExecuteTime": {
     "end_time": "2023-06-21T08:19:34.419828500Z",
     "start_time": "2023-06-21T08:19:34.413792400Z"
    }
   }
  },
  {
   "cell_type": "code",
   "execution_count": 154,
   "outputs": [],
   "source": [
    "# Describing th numerical features"
   ],
   "metadata": {
    "collapsed": false,
    "ExecuteTime": {
     "end_time": "2023-06-21T08:19:34.443613700Z",
     "start_time": "2023-06-21T08:19:34.419828500Z"
    }
   }
  },
  {
   "cell_type": "code",
   "execution_count": 155,
   "outputs": [],
   "source": [
    "# mumerical features selectec\n",
    "numeric_features = ['latitude', 'longitude', 'minimum_nights',\n",
    "                    'reviews_per_month', 'calculated_host_listings_count',\n",
    "                    'availability_365']\n",
    "# one hot encoding for categorical values\n",
    "categorical_features_onehot = ['neighbourhood_group_Bronx', 'neighbourhood_group_Brooklyn',\n",
    "                               'neighbourhood_group_Manhattan', 'neighbourhood_group_Queens',\n",
    "                               'neighbourhood_group_Staten Island', 'room_type_Entire home/apt',\n",
    "                               'room_type_Hotel room', 'room_type_Private room',\n",
    "                               'room_type_Shared room']"
   ],
   "metadata": {
    "collapsed": false,
    "ExecuteTime": {
     "end_time": "2023-06-21T08:19:34.467922800Z",
     "start_time": "2023-06-21T08:19:34.426096Z"
    }
   }
  },
  {
   "cell_type": "code",
   "execution_count": 156,
   "outputs": [],
   "source": [
    "# transformer pipeline for adding scaling to numerical columns\n",
    "numeric_transformer = Pipeline(steps=[\n",
    "    ('scaler', MinMaxScaler())\n",
    "])"
   ],
   "metadata": {
    "collapsed": false,
    "ExecuteTime": {
     "end_time": "2023-06-21T08:19:34.474017Z",
     "start_time": "2023-06-21T08:19:34.432306400Z"
    }
   }
  },
  {
   "cell_type": "code",
   "execution_count": 157,
   "outputs": [],
   "source": [
    "# preprocessor which will apply scaling to numerical values and leave the one hot encoding as it is\n",
    "preprocessor = ColumnTransformer(\n",
    "    transformers=[\n",
    "        ('num',numeric_transformer, numeric_features),\n",
    "        ('cat_onehot', 'passthrough', categorical_features_onehot)\n",
    "    ]\n",
    ")"
   ],
   "metadata": {
    "collapsed": false,
    "ExecuteTime": {
     "end_time": "2023-06-21T08:19:34.475016900Z",
     "start_time": "2023-06-21T08:19:34.438423Z"
    }
   }
  },
  {
   "cell_type": "code",
   "execution_count": 158,
   "outputs": [],
   "source": [
    "# Random Forest Pipeline\n",
    "rf_pipeline = Pipeline(steps=[\n",
    "    ('preprocessor', preprocessor),\n",
    "    ('regressor', RandomForestRegressor())\n",
    "])"
   ],
   "metadata": {
    "collapsed": false,
    "ExecuteTime": {
     "end_time": "2023-06-21T08:19:34.485521100Z",
     "start_time": "2023-06-21T08:19:34.467922800Z"
    }
   }
  },
  {
   "cell_type": "code",
   "execution_count": 159,
   "outputs": [],
   "source": [
    "# svm pipeline\n",
    "svr_pipeline = Pipeline(steps=[\n",
    "    ('preprocessor', preprocessor),\n",
    "    ('regressor', SVR())\n",
    "])"
   ],
   "metadata": {
    "collapsed": false,
    "ExecuteTime": {
     "end_time": "2023-06-21T08:19:34.485521100Z",
     "start_time": "2023-06-21T08:19:34.467922800Z"
    }
   }
  },
  {
   "cell_type": "code",
   "execution_count": 160,
   "outputs": [],
   "source": [
    "# Linear Regression\n",
    "from sklearn.linear_model import LinearRegression\n",
    "\n",
    "lr_pipeline = Pipeline(steps=[('preprocessor', preprocessor),\n",
    "                              ('regressor', LinearRegression())])"
   ],
   "metadata": {
    "collapsed": false,
    "ExecuteTime": {
     "end_time": "2023-06-21T08:19:34.485521100Z",
     "start_time": "2023-06-21T08:19:34.467922800Z"
    }
   }
  },
  {
   "cell_type": "markdown",
   "source": [
    "## Model Selection and Evaluation"
   ],
   "metadata": {
    "collapsed": false
   }
  },
  {
   "cell_type": "code",
   "execution_count": 161,
   "outputs": [],
   "source": [
    "from sklearn.model_selection import cross_val_score\n"
   ],
   "metadata": {
    "collapsed": false,
    "ExecuteTime": {
     "end_time": "2023-06-21T08:19:34.485521100Z",
     "start_time": "2023-06-21T08:19:34.467922800Z"
    }
   }
  },
  {
   "cell_type": "code",
   "execution_count": 162,
   "outputs": [],
   "source": [
    "pipelines = [ rf_pipeline, svr_pipeline, lr_pipeline]\n",
    "pipeline_names = [\"Random Forest\", \"Support Vector Regression\", \"Linear Regression\"]"
   ],
   "metadata": {
    "collapsed": false,
    "ExecuteTime": {
     "end_time": "2023-06-21T08:19:34.486521900Z",
     "start_time": "2023-06-21T08:19:34.467922800Z"
    }
   }
  },
  {
   "cell_type": "code",
   "execution_count": 163,
   "outputs": [
    {
     "name": "stdout",
     "output_type": "stream",
     "text": [
      "Random Forest RMSE value: 54.07053058324196\n",
      "Support Vector Regression RMSE value: 64.51134253580825\n",
      "Linear Regression RMSE value: 62.8188610610812\n"
     ]
    }
   ],
   "source": [
    "# training on each pipeline and generating rmse value for each pipeline\n",
    "for i, pipe in enumerate(pipelines):\n",
    "    cv_score = cross_val_score(pipe, X_train, y_train, cv=5, scoring='neg_mean_squared_error')\n",
    "    print(f'{pipeline_names[i]} RMSE value: {np.mean(np.sqrt(np.abs(cv_score)))}')"
   ],
   "metadata": {
    "collapsed": false,
    "ExecuteTime": {
     "end_time": "2023-06-21T08:21:24.813514600Z",
     "start_time": "2023-06-21T08:19:34.475016900Z"
    }
   }
  },
  {
   "cell_type": "markdown",
   "source": [
    "## Conclusion\n",
    "\n",
    "The goal of this project was to understand the factors that affect the price of Airbnb lstings in NYC and to build a model that could predict the price of a listing based on these factors.\n",
    "\n",
    "The variables that we found to be most significant in influencing the price were 'latitude', 'longitude', 'minimum_nights', 'reviews_per_month', 'calculated_host_listings_count', 'availability_365', as well as one-hot encoded variables representing 'neighbouring_group' and 'room_type'.\n",
    "\n",
    "Various machine learning models were evaluated, including Linear Regression, Support Vector Regression, and Random Forest. The performance of the models was assessed using Root Mean Square Error(RMSE), a common metric for regression problems.\n",
    "\n",
    "Random Forest performeed the best among the models with an RMSE value of 54.10, indicating it had the smallest average prediction error. Thus, this mode was selected for predicting Airbnb listing prices.\n",
    "\n",
    "To finalize and save the trained model, we can use joblib's dump function\n"
   ],
   "metadata": {
    "collapsed": false
   }
  },
  {
   "cell_type": "code",
   "execution_count": 164,
   "outputs": [],
   "source": [
    "from joblib import dump"
   ],
   "metadata": {
    "collapsed": false,
    "ExecuteTime": {
     "end_time": "2023-06-21T08:21:24.814813300Z",
     "start_time": "2023-06-21T08:21:24.814310300Z"
    }
   }
  },
  {
   "cell_type": "code",
   "execution_count": 165,
   "outputs": [
    {
     "data": {
      "text/plain": "['airbnb_price_predictor_pipeline.joblib']"
     },
     "execution_count": 165,
     "metadata": {},
     "output_type": "execute_result"
    }
   ],
   "source": [
    "rf_pipeline.fit(X_train, y_train)\n",
    "# saving the model\n",
    "dump(rf_pipeline, 'airbnb_price_predictor_pipeline.joblib')"
   ],
   "metadata": {
    "collapsed": false,
    "ExecuteTime": {
     "end_time": "2023-06-21T08:21:35.363972700Z",
     "start_time": "2023-06-21T08:21:24.815816500Z"
    }
   }
  },
  {
   "cell_type": "markdown",
   "source": [
    "In this script:\n",
    "1. We used the rf_pipeline that applies preprocessor to the data, and then applies the RandomForestRegressor.\n",
    "2. We trained the entire pipeline using fit method\n",
    "3. Then, we saved the pipeline to a file named 'airbnb_price_predictor_pipeline.joblib'\n",
    "\n",
    "When it's time to make predictions with new data, we can load this pipeline, and it will ensure that the input data is preprocessed in the same way as the training data before making a prediction."
   ],
   "metadata": {
    "collapsed": false
   }
  },
  {
   "cell_type": "markdown",
   "source": [
    "## Example of loading the running the model of an unseen data"
   ],
   "metadata": {
    "collapsed": false
   }
  },
  {
   "cell_type": "code",
   "execution_count": 166,
   "outputs": [],
   "source": [
    "from joblib import load"
   ],
   "metadata": {
    "collapsed": false,
    "ExecuteTime": {
     "end_time": "2023-06-21T08:21:35.366468500Z",
     "start_time": "2023-06-21T08:21:35.364960900Z"
    }
   }
  },
  {
   "cell_type": "code",
   "execution_count": 167,
   "outputs": [],
   "source": [
    "# load the pipeline\n",
    "loaded_pipeline = load('airbnb_price_predictor_pipeline.joblib')"
   ],
   "metadata": {
    "collapsed": false,
    "ExecuteTime": {
     "end_time": "2023-06-21T08:21:35.517194200Z",
     "start_time": "2023-06-21T08:21:35.366468500Z"
    }
   }
  },
  {
   "cell_type": "code",
   "execution_count": 168,
   "outputs": [],
   "source": [
    "# example of unseen data\n",
    "unseen_data = pd.DataFrame({\n",
    "    'latitude': [40.64749],\n",
    "    'longitude': [-73.97237],\n",
    "    'minimum_nights': [1],\n",
    "    'reviews_per_month': [0.21],\n",
    "    'calculated_host_listings_count': [6],\n",
    "    'availability_365': [365],\n",
    "    'neighbourhood_group_Bronx': [0],\n",
    "    'neighbourhood_group_Brooklyn': [1],\n",
    "    'neighbourhood_group_Manhattan': [0],\n",
    "    'neighbourhood_group_Queens': [0],\n",
    "    'neighbourhood_group_Staten Island': [0],\n",
    "    'room_type_Entire home/apt': [1],\n",
    "    'room_type_Hotel room': [0],\n",
    "    'room_type_Private room': [0],\n",
    "    'room_type_Shared room': [0]\n",
    "})"
   ],
   "metadata": {
    "collapsed": false,
    "ExecuteTime": {
     "end_time": "2023-06-21T08:21:35.520680300Z",
     "start_time": "2023-06-21T08:21:35.519155Z"
    }
   }
  },
  {
   "cell_type": "code",
   "execution_count": 169,
   "outputs": [],
   "source": [
    "# predict on the unseen data\n",
    "predicted_price = loaded_pipeline.predict(unseen_data)"
   ],
   "metadata": {
    "collapsed": false,
    "ExecuteTime": {
     "end_time": "2023-06-21T08:21:35.531537100Z",
     "start_time": "2023-06-21T08:21:35.521685200Z"
    }
   }
  },
  {
   "cell_type": "code",
   "execution_count": 170,
   "outputs": [
    {
     "name": "stdout",
     "output_type": "stream",
     "text": [
      "The predicted price for the Airbnb listing is: 213.29\n"
     ]
    }
   ],
   "source": [
    "print(f'The predicted price for the Airbnb listing is: {predicted_price[0]}')"
   ],
   "metadata": {
    "collapsed": false,
    "ExecuteTime": {
     "end_time": "2023-06-21T08:21:35.542157100Z",
     "start_time": "2023-06-21T08:21:35.532540Z"
    }
   }
  },
  {
   "cell_type": "code",
   "execution_count": null,
   "outputs": [],
   "source": [],
   "metadata": {
    "collapsed": false
   }
  }
 ],
 "metadata": {
  "kernelspec": {
   "display_name": "Python 3",
   "language": "python",
   "name": "python3"
  },
  "language_info": {
   "codemirror_mode": {
    "name": "ipython",
    "version": 2
   },
   "file_extension": ".py",
   "mimetype": "text/x-python",
   "name": "python",
   "nbconvert_exporter": "python",
   "pygments_lexer": "ipython2",
   "version": "2.7.6"
  }
 },
 "nbformat": 4,
 "nbformat_minor": 0
}
